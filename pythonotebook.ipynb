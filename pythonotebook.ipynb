{
 "cells": [
  {
   "cell_type": "code",
   "execution_count": 1,
   "id": "637b8a4f",
   "metadata": {},
   "outputs": [],
   "source": [
    "import pandas as pd\n",
    "import os\n",
    "import chardet # para detectar o tipo de codificação que a base de dados usa \n",
    "\n",
    "def detectar_codificacao(baseDados):\n",
    "    with open(baseDados, 'rb') as file:\n",
    "        data = file.read()\n",
    "    resultado = chardet.detect(data)\n",
    "    return resultado['encoding']\n",
    "\n",
    "\n"
   ]
  },
  {
   "cell_type": "code",
   "execution_count": 2,
   "id": "8fc45fb8",
   "metadata": {},
   "outputs": [],
   "source": [
    "\n",
    "#importando os arquivos\n",
    "caminho_padrao = r'C:\\Users\\savio.sousa\\Documents\\GitHub\\INTEGRAPB'\n",
    "vendas_df = pd.read_csv(os.path.join(caminho_padrao, r'Contoso - Vendas - 2017.csv'), sep=';', encoding=detectar_codificacao('Contoso - Vendas - 2017.csv'))\n"
   ]
  },
  {
   "cell_type": "code",
   "execution_count": 3,
   "id": "90d87270",
   "metadata": {},
   "outputs": [],
   "source": [
    "produtos_df = pd.read_csv(os.path.join(caminho_padrao, r'Contoso - Cadastro Produtos.csv'), sep=';', encoding=detectar_codificacao('Contoso - Cadastro Produtos.csv'))\n",
    "lojas_df = pd.read_csv(os.path.join(caminho_padrao, r'Contoso - Lojas.csv'), sep=';', encoding=detectar_codificacao('Contoso - Lojas.csv'))\n",
    "clientes_df = pd.read_csv(os.path.join(caminho_padrao, r'Contoso - Clientes.csv'), sep=';', encoding=detectar_codificacao('Contoso - Clientes.csv'))\n"
   ]
  },
  {
   "cell_type": "code",
   "execution_count": 4,
   "id": "9df0d6a7",
   "metadata": {},
   "outputs": [],
   "source": [
    "# renomeando colunas com nomes errados pela codificação\n",
    "\n",
    "clientes_df.rename(columns={\n",
    "    'ÿID Cliente': 'ID Cliente',\n",
    "}, inplace=True)\n",
    "\n",
    "produtos_df.rename(columns={\n",
    "    'ÿNome da Marca': 'Nome da Marca',\n",
    "}, inplace=True)\n",
    "\n",
    "lojas_df.rename(columns={\n",
    "    'ÿID Loja':'ID Loja'\n",
    "}, inplace=True)\n",
    "\n",
    "\n"
   ]
  },
  {
   "cell_type": "code",
   "execution_count": 5,
   "id": "f95c4bae",
   "metadata": {},
   "outputs": [],
   "source": [
    "#filtrando colunas de cada base de dados\n",
    "clientes_df = clientes_df[['ID Cliente', 'E-mail']]\n",
    "produtos_df = produtos_df[['ID Produto', 'Nome da Marca']]\n",
    "lojas_df = lojas_df[['ID Loja', 'Nome da Loja']]\n",
    "\n",
    "\n",
    "\n",
    "#mesclando as informações no dataframe vendas_df ID PRODUTO/ ID LOJA/ ID CLIENTE E EMAIL\n",
    "vendas_df = vendas_df.merge(produtos_df, on='ID Produto')\n",
    "vendas_df = vendas_df.merge(lojas_df, on='ID Loja')\n",
    "vendas_df = vendas_df.merge(clientes_df, on='ID Cliente').rename(columns={'E-mail': 'E-mail do Cliente'})\n"
   ]
  },
  {
   "cell_type": "code",
   "execution_count": null,
   "id": "70736e09",
   "metadata": {},
   "outputs": [],
   "source": [
    "import pandas as pd\n",
    "import os\n",
    "import chardet  # para detectar o tipo de codificação que a base de dados usa\n",
    "\n",
    "def detectar_codificacao(baseDados):\n",
    "    with open(baseDados, 'rb') as file:\n",
    "        data = file.read()\n",
    "    resultado = chardet.detect(data)\n",
    "    return resultado['encoding']\n",
    "\n",
    "# Importando os arquivos\n",
    "caminho_padrao = r'C:\\Users\\savio.sousa\\Documents\\GitHub\\IntegraPB'\n",
    "vendas_df = pd.read_csv(os.path.join(caminho_padrao, 'Contoso - Vendas - 2017.csv'), sep=';', encoding=detectar_codificacao(os.path.join(caminho_padrao, 'Contoso - Vendas - 2017.csv')))\n",
    "produtos_df = pd.read_csv(os.path.join(caminho_padrao, 'Contoso - Cadastro Produtos.csv'), sep=';', encoding=detectar_codificacao(os.path.join(caminho_padrao, 'Contoso - Cadastro Produtos.csv')))\n",
    "lojas_df = pd.read_csv(os.path.join(caminho_padrao, 'Contoso - Lojas.csv'), sep=';', encoding=detectar_codificacao(os.path.join(caminho_padrao, 'Contoso - Lojas.csv')))\n",
    "clientes_df = pd.read_csv(os.path.join(caminho_padrao, 'Contoso - Clientes.csv'), sep=';', encoding=detectar_codificacao(os.path.join(caminho_padrao, 'Contoso - Clientes.csv')))\n",
    "\n",
    "# Corrigindo nomes de colunas\n",
    "clientes_df.rename(columns={'ÿID Cliente': 'ID Cliente'}, inplace=True)\n",
    "produtos_df.rename(columns={'ÿNome da Marca': 'Nome da Marca'}, inplace=True)\n",
    "lojas_df.rename(columns={'ÿID Loja': 'ID Loja'}, inplace=True)\n",
    "\n",
    "# Filtrando colunas de cada base de dados\n",
    "clientes_df = clientes_df[['ID Cliente', 'E-mail']]\n",
    "produtos_df = produtos_df[['ID Produto', 'Nome da Marca']]\n",
    "lojas_df = lojas_df[['ID Loja', 'Nome da Loja']]\n",
    "\n",
    "# Mesclando as informações no dataframe vendas_df ID PRODUTO/ ID LOJA/ ID CLIENTE E EMAIL\n",
    "vendas_df = vendas_df.merge(produtos_df, on='ID Produto')\n",
    "vendas_df = vendas_df.merge(lojas_df, on='ID Loja')\n",
    "vendas_df = vendas_df.merge(clientes_df, on='ID Cliente').rename(columns={'E-mail': 'E-mail do Cliente'})\n",
    "\n",
    "# O DataFrame vendas_df está pronto para ser usado no Power BI"
   ]
  },
  {
   "cell_type": "code",
   "execution_count": null,
   "id": "ff1325a8",
   "metadata": {},
   "outputs": [],
   "source": [
    "dataset = vendas_df\n",
    "tres_lojasdf = dataset[dataset['ID Loja'].isin([86, 306, 172])]"
   ]
  },
  {
   "cell_type": "code",
   "execution_count": null,
   "id": "752d4fb8",
   "metadata": {},
   "outputs": [],
   "source": [
    "#célula de display\n",
    "\n",
    "display(tres_lojasdf)"
   ]
  },
  {
   "cell_type": "code",
   "execution_count": null,
   "id": "a5c085ab-a5a4-4380-ac44-738aac2593f7",
   "metadata": {},
   "outputs": [],
   "source": [
    "import matplotlib.pyplot as plt\n",
    "\n",
    "tres_lojasdf.plot(x='Data Venda', y='Qtd Vendida', figsize=(15, 5))\n",
    "plt.show()"
   ]
  },
  {
   "cell_type": "code",
   "execution_count": null,
   "id": "59b53360",
   "metadata": {},
   "outputs": [],
   "source": []
  }
 ],
 "metadata": {
  "kernelspec": {
   "display_name": "Python 3 (ipykernel)",
   "language": "python",
   "name": "python3"
  },
  "language_info": {
   "codemirror_mode": {
    "name": "ipython",
    "version": 3
   },
   "file_extension": ".py",
   "mimetype": "text/x-python",
   "name": "python",
   "nbconvert_exporter": "python",
   "pygments_lexer": "ipython3",
   "version": "3.6.13"
  }
 },
 "nbformat": 4,
 "nbformat_minor": 5
}
